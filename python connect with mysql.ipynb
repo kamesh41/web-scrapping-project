{
 "cells": [
  {
   "cell_type": "code",
   "execution_count": 2,
   "id": "54d3686e",
   "metadata": {},
   "outputs": [
    {
     "name": "stdout",
     "output_type": "stream",
     "text": [
      "Requirement already satisfied: mysql-connector-python in c:\\users\\dell\\anaconda3\\lib\\site-packages (8.0.27)\n",
      "Requirement already satisfied: protobuf>=3.0.0 in c:\\users\\dell\\anaconda3\\lib\\site-packages (from mysql-connector-python) (3.19.1)\n"
     ]
    }
   ],
   "source": [
    "!pip install mysql-connector-python"
   ]
  },
  {
   "cell_type": "code",
   "execution_count": 56,
   "id": "82672ee6",
   "metadata": {},
   "outputs": [
    {
     "name": "stdout",
     "output_type": "stream",
     "text": [
      "<mysql.connector.connection_cext.CMySQLConnection object at 0x0000023038A126A0>\n"
     ]
    }
   ],
   "source": [
    "import mysql.connector\n",
    "\n",
    "mydb=mysql.connector.connect(\n",
    "    host=\"localhost\",\n",
    "    user=\"root\",\n",
    "    passwd=\"jhansi123\"\n",
    ")\n",
    "print(mydb)\n"
   ]
  },
  {
   "cell_type": "code",
   "execution_count": 57,
   "id": "bc833da1",
   "metadata": {},
   "outputs": [
    {
     "name": "stdout",
     "output_type": "stream",
     "text": [
      "('customers',)\n"
     ]
    }
   ],
   "source": [
    "import mysql.connector\n",
    "\n",
    "mydb=mysql.connector.connect(\n",
    " host='localhost',\n",
    " user='root',\n",
    " passwd='jhansi123',\n",
    " database='sq'\n",
    ")    \n",
    "\n",
    "mycursor=mydb.cursor()\n",
    "\n",
    "mycursor.execute('SHOW TABLES')\n",
    "\n",
    "for x in mycursor:\n",
    "        print(x)\n"
   ]
  },
  {
   "cell_type": "code",
   "execution_count": 58,
   "id": "cc741359",
   "metadata": {},
   "outputs": [
    {
     "name": "stdout",
     "output_type": "stream",
     "text": [
      "('customers',)\n"
     ]
    }
   ],
   "source": [
    "mycursor=mydb.cursor()\n",
    "mycursor.execute('SHOW TABLES')\n",
    "\n",
    "for x in mycursor:\n",
    "    print(x)"
   ]
  },
  {
   "cell_type": "code",
   "execution_count": 43,
   "id": "00cc049b",
   "metadata": {},
   "outputs": [
    {
     "name": "stdout",
     "output_type": "stream",
     "text": [
      "1 record inserted.\n"
     ]
    }
   ],
   "source": [
    "sql=\"INSERT INTO customers(name,address) VALUES(%s,%s)\"\n",
    "val=('raja','highway21')\n",
    "mycursor.execute(sql,val)\n",
    "mydb.commit()\n",
    "\n",
    "print(mycursor.rowcount,\"record inserted.\")"
   ]
  },
  {
   "cell_type": "code",
   "execution_count": 59,
   "id": "1f5d4073",
   "metadata": {},
   "outputs": [
    {
     "name": "stdout",
     "output_type": "stream",
     "text": [
      "4 was inserted.\n"
     ]
    }
   ],
   "source": [
    "sql=\"INSERT INTO customers(name,address) VALUES(%s,%s)\"\n",
    "val=[('raja','highway21'),\n",
    "     ('king','yuvraj 56'),\n",
    "     ('kamesh','yuvraj 32'),\n",
    "     ('jhansi', 'rani 45')]\n",
    "mycursor.executemany(sql,val)\n",
    "mydb.commit()\n",
    "\n",
    "print(mycursor.rowcount,\"was inserted.\")"
   ]
  },
  {
   "cell_type": "code",
   "execution_count": 46,
   "id": "54778bad",
   "metadata": {},
   "outputs": [
    {
     "name": "stdout",
     "output_type": "stream",
     "text": [
      "('raja', 'highway21', 1)\n",
      "('raja', 'highway21', 2)\n",
      "('king', 'yuvraj 56', 3)\n",
      "('kamesh', 'yuvraj 32', 4)\n",
      "('jhansi', 'rani 45', 5)\n"
     ]
    }
   ],
   "source": [
    "mycursor.execute(\"SELECT * FROM customers\")\n",
    "\n",
    "myresult=mycursor.fetchall()\n",
    "\n",
    "for x in myresult:\n",
    "    print(x)"
   ]
  },
  {
   "cell_type": "code",
   "execution_count": 66,
   "id": "1e954a8b",
   "metadata": {},
   "outputs": [
    {
     "name": "stdout",
     "output_type": "stream",
     "text": [
      "3 was inserted.\n"
     ]
    }
   ],
   "source": [
    "sql = \"INSERT INTO customers(name,address) VALUES (%s,%s)\"\n",
    "val= [\n",
    "      ('rajesh','janaki 31'),\n",
    "      ('radhika','kamesh 41'),\n",
    "      ('pavani', 'kamesh 32')]\n",
    "\n",
    "mycursor.executemany(sql,val)\n",
    "mydb.commit()\n",
    "\n",
    "print(mycursor.rowcount,\"was inserted.\")"
   ]
  },
  {
   "cell_type": "code",
   "execution_count": 60,
   "id": "711bc2df",
   "metadata": {},
   "outputs": [
    {
     "name": "stdout",
     "output_type": "stream",
     "text": [
      "('raja', 'highway21', 1)\n",
      "('raja', 'highway21', 2)\n",
      "('raja', 'highway21', 6)\n"
     ]
    }
   ],
   "source": [
    "mycursor= mydb.cursor()\n",
    "\n",
    "sql= \"SELECT * FROM customers WHERE  address ='highway21'\"\n",
    "\n",
    "mycursor.execute(sql)\n",
    "\n",
    "myresult=mycursor.fetchall()\n",
    "\n",
    "for x in myresult:\n",
    "    print(x)"
   ]
  },
  {
   "cell_type": "code",
   "execution_count": 62,
   "id": "09eea569",
   "metadata": {},
   "outputs": [
    {
     "name": "stdout",
     "output_type": "stream",
     "text": [
      "('raja', 'highway21', 1)\n",
      "('raja', 'highway21', 2)\n",
      "('raja', 'highway21', 6)\n"
     ]
    }
   ],
   "source": [
    "mycursor= mydb.cursor()\n",
    "\n",
    "sql= \"SELECT * FROM customers WHERE  address LIKE '%way%'\"\n",
    "\n",
    "mycursor.execute(sql)\n",
    "\n",
    "myresult=mycursor.fetchall()\n",
    "\n",
    "for x in myresult:\n",
    "    print(x)"
   ]
  },
  {
   "cell_type": "code",
   "execution_count": 64,
   "id": "8009f1b8",
   "metadata": {},
   "outputs": [
    {
     "name": "stdout",
     "output_type": "stream",
     "text": [
      "4 was inserted.\n"
     ]
    }
   ],
   "source": [
    "sql=\"INSERT INTO customers(name,address) VALUES(%s,%s)\"\n",
    "val=[('raja','highway21'),\n",
    "     ('king','yuvraj 56'),\n",
    "     ('kamesh','yuvraj 32'),\n",
    "     ('jhansi', 'rani 45')]\n",
    "mycursor.executemany(sql,val)\n",
    "mydb.commit()\n",
    "\n",
    "print(mycursor.rowcount,\"was inserted.\")"
   ]
  },
  {
   "cell_type": "code",
   "execution_count": 65,
   "id": "2b9e5c23",
   "metadata": {},
   "outputs": [
    {
     "name": "stdout",
     "output_type": "stream",
     "text": [
      "3 was inserted.\n"
     ]
    }
   ],
   "source": [
    "sql = \"INSERT INTO customers(name,address) VALUES (%s,%s)\"\n",
    "val = [\n",
    "      ('rajesh','janaki31'),\n",
    "      ('radhika','kamesh41'),\n",
    "      ('pavani', 'kamesh32')]\n",
    "\n",
    "mycursor.executemany(sql,val)\n",
    "mydb.commit()\n",
    "\n",
    "print(mycursor.rowcount,\"was inserted.\")"
   ]
  },
  {
   "cell_type": "code",
   "execution_count": 67,
   "id": "a27d06a2",
   "metadata": {},
   "outputs": [
    {
     "name": "stdout",
     "output_type": "stream",
     "text": [
      "('raja', 'highway21', 1)\n",
      "('raja', 'highway21', 2)\n",
      "('king', 'yuvraj 56', 3)\n",
      "('kamesh', 'yuvraj 32', 4)\n",
      "('jhansi', 'rani 45', 5)\n",
      "('raja', 'highway21', 6)\n",
      "('king', 'yuvraj 56', 7)\n",
      "('kamesh', 'yuvraj 32', 8)\n",
      "('jhansi', 'rani 45', 9)\n",
      "('raja', 'highway21', 10)\n",
      "('king', 'yuvraj 56', 11)\n",
      "('kamesh', 'yuvraj 32', 12)\n",
      "('jhansi', 'rani 45', 13)\n",
      "('rajesh', 'janaki31', 14)\n",
      "('radhika', 'kamesh41', 15)\n",
      "('pavani', 'kamesh32', 16)\n",
      "('rajesh', 'janaki 31', 17)\n",
      "('radhika', 'kamesh 41', 18)\n",
      "('pavani', 'kamesh 32', 19)\n"
     ]
    }
   ],
   "source": [
    "mycursor.execute('SELECT * FROM customers')\n",
    "\n",
    "myresult=mycursor.fetchall()\n",
    "\n",
    "for x in myresult:\n",
    "    print(x)"
   ]
  },
  {
   "cell_type": "code",
   "execution_count": 68,
   "id": "148c272b",
   "metadata": {},
   "outputs": [],
   "source": [
    "import mysql.connector"
   ]
  },
  {
   "cell_type": "code",
   "execution_count": null,
   "id": "3e8ae5f4",
   "metadata": {},
   "outputs": [],
   "source": [
    "import mysql.connector\n",
    "\n",
    "mydb=mysql.connector.connect(\n",
    " host='localhost',\n",
    " user='root',\n",
    " passwd='jhansi123',\n",
    " database='sq'\n",
    ")    "
   ]
  },
  {
   "cell_type": "code",
   "execution_count": 69,
   "id": "3055521f",
   "metadata": {},
   "outputs": [],
   "source": [
    "mydb=mysql.connector.connect(\n",
    "    host='localhost',\n",
    "    user='root',\n",
    "    passwd='jhansi123',\n",
    "    database='sq')\n",
    "\n"
   ]
  },
  {
   "cell_type": "code",
   "execution_count": 70,
   "id": "3c866bf4",
   "metadata": {},
   "outputs": [
    {
     "name": "stdout",
     "output_type": "stream",
     "text": [
      "('customers',)\n"
     ]
    }
   ],
   "source": [
    "mycursor=mydb.cursor()\n",
    "\n",
    "mycursor.execute('SHOW TABLES')\n",
    "\n",
    "for x in mycursor:\n",
    "    print(x)\n",
    "\n"
   ]
  },
  {
   "cell_type": "code",
   "execution_count": 72,
   "id": "2e66c08a",
   "metadata": {},
   "outputs": [
    {
     "name": "stdout",
     "output_type": "stream",
     "text": [
      "('radhika', 'kamesh41', 15)\n",
      "('radhika', 'kamesh 41', 18)\n"
     ]
    }
   ],
   "source": [
    "sql=\"SELECT * FROM customers WHERE name ='radhika'\"\n",
    "\n",
    "mycursor.execute(sql)\n",
    "\n",
    "myresult=mycursor.fetchall()\n",
    "\n",
    "for x in myresult:\n",
    "    print(x)"
   ]
  },
  {
   "cell_type": "code",
   "execution_count": null,
   "id": "8a59e245",
   "metadata": {},
   "outputs": [],
   "source": [
    "sql=\"INSERT INTO customers(name,address) VALUES(%s,%s)\"\n",
    "val=('raja','highway21')\n",
    "mycursor.execute(sql,val)\n",
    "mydb.commit()\n",
    "\n",
    "print(mycursor.rowcount,\"record inserted.\")"
   ]
  },
  {
   "cell_type": "code",
   "execution_count": 78,
   "id": "293498ec",
   "metadata": {},
   "outputs": [
    {
     "name": "stdout",
     "output_type": "stream",
     "text": [
      "1 was inserted.\n"
     ]
    }
   ],
   "source": [
    "sql = \"INSERT INTO customers(name,address) VALUES (%s,%s)\"\n",
    "val = ('vamsi','vamsi 45')\n",
    "\n",
    "mycursor.execute(sql,val)\n",
    "\n",
    "mydb.commit()\n",
    "\n",
    "print(mycursor.rowcount,\"was inserted.\")"
   ]
  },
  {
   "cell_type": "code",
   "execution_count": 79,
   "id": "a46119e8",
   "metadata": {},
   "outputs": [],
   "source": [
    "mycursor=mydb.cursor()"
   ]
  },
  {
   "cell_type": "code",
   "execution_count": 82,
   "id": "719c2007",
   "metadata": {},
   "outputs": [
    {
     "name": "stdout",
     "output_type": "stream",
     "text": [
      "('raja', 'highway21', 1)\n",
      "('raja', 'highway21', 2)\n",
      "('king', 'yuvraj 56', 3)\n",
      "('kamesh', 'yuvraj 32', 4)\n",
      "('jhansi', 'rani 45', 5)\n",
      "('raja', 'highway21', 6)\n",
      "('king', 'yuvraj 56', 7)\n",
      "('kamesh', 'yuvraj 32', 8)\n",
      "('jhansi', 'rani 45', 9)\n",
      "('raja', 'highway21', 10)\n",
      "('king', 'yuvraj 56', 11)\n",
      "('kamesh', 'yuvraj 32', 12)\n",
      "('jhansi', 'rani 45', 13)\n",
      "('rajesh', 'janaki31', 14)\n",
      "('radhika', 'kamesh41', 15)\n",
      "('pavani', 'kamesh32', 16)\n",
      "('rajesh', 'janaki 31', 17)\n",
      "('radhika', 'kamesh 41', 18)\n",
      "('pavani', 'kamesh 32', 19)\n",
      "('vamsi', 'vamsi 45', 20)\n"
     ]
    }
   ],
   "source": [
    "mycursor.execute('SELECT * FROM customers')\n",
    "\n",
    "myresult=mycursor.fetchall()\n",
    "\n",
    "for y in myresult:\n",
    "    print(y)"
   ]
  },
  {
   "cell_type": "code",
   "execution_count": 85,
   "id": "9843772b",
   "metadata": {},
   "outputs": [],
   "source": [
    "mydb=mysql.connector.connect(\n",
    "    host='localhost',\n",
    "    user='root',\n",
    "    passwd='jhansi123',\n",
    "    database='sq')\n"
   ]
  },
  {
   "cell_type": "code",
   "execution_count": 86,
   "id": "46b38afa",
   "metadata": {},
   "outputs": [],
   "source": [
    "mycursor=mydb.cursor()"
   ]
  },
  {
   "cell_type": "code",
   "execution_count": 90,
   "id": "6065db6b",
   "metadata": {},
   "outputs": [
    {
     "name": "stdout",
     "output_type": "stream",
     "text": [
      "[('raja', 'highway21', 1), ('raja', 'highway21', 2), ('raja', 'highway21', 6), ('raja', 'highway21', 10)]\n"
     ]
    }
   ],
   "source": [
    "mycursor.execute(\"SELECT * FROM customers WHERE address LIKE '%way%'\")\n",
    "\n",
    "myresult=mycursor.fetchall()\n",
    "\n",
    "print(myresult)"
   ]
  },
  {
   "cell_type": "code",
   "execution_count": 91,
   "id": "3e2a83a7",
   "metadata": {},
   "outputs": [
    {
     "name": "stdout",
     "output_type": "stream",
     "text": [
      "('raja', 'highway21', 1)\n",
      "('raja', 'highway21', 2)\n",
      "('raja', 'highway21', 6)\n",
      "('raja', 'highway21', 10)\n"
     ]
    }
   ],
   "source": [
    "mycursor.execute(\"SELECT * FROM customers WHERE address LIKE '%way%'\")\n",
    "\n",
    "myresult=mycursor.fetchall()\n",
    "\n",
    "for x in myresult:\n",
    "    print(x)"
   ]
  },
  {
   "cell_type": "code",
   "execution_count": null,
   "id": "dce7e5b2",
   "metadata": {},
   "outputs": [],
   "source": []
  }
 ],
 "metadata": {
  "kernelspec": {
   "display_name": "Python 3",
   "language": "python",
   "name": "python3"
  },
  "language_info": {
   "codemirror_mode": {
    "name": "ipython",
    "version": 3
   },
   "file_extension": ".py",
   "mimetype": "text/x-python",
   "name": "python",
   "nbconvert_exporter": "python",
   "pygments_lexer": "ipython3",
   "version": "3.8.8"
  }
 },
 "nbformat": 4,
 "nbformat_minor": 5
}
